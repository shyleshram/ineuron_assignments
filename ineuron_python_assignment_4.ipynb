{
 "cells": [
  {
   "cell_type": "markdown",
   "metadata": {},
   "source": [
    "1.1 Write a Python Program(with class concepts) to find the area of the triangle using the below\n",
    "formula.\n",
    "area = (s*(s-a)*(s-b)*(s-c)) ** 0.5\n",
    "Function to take the length of the sides of triangle from user should be defined in the parent\n",
    "class and function to calculate the area should be defined in subclass."
   ]
  },
  {
   "cell_type": "code",
   "execution_count": 55,
   "metadata": {},
   "outputs": [
    {
     "name": "stdout",
     "output_type": "stream",
     "text": [
      "enter size a: 5\n",
      "enter size b: 6\n",
      "enter size c: 7\n",
      "14.70 cm2\n"
     ]
    }
   ],
   "source": [
    "class Area:\n",
    "        \n",
    "    def input_values(self):\n",
    "        self.a = float(input(\"enter size a: \"))\n",
    "        self.b = float(input(\"enter size b: \"))\n",
    "        self.c = float(input(\"enter size c: \"))\n",
    "     \n",
    "    \n",
    "class Triangle(Area):\n",
    "    \n",
    "    def calculate(self):\n",
    "        user.input_values()\n",
    "        s = (self.a + self.b + self.c)/2\n",
    "        res =  (s*(s-self.a)*(s-self.b)*(s-self.c))**0.5\n",
    "        return f'{res:.2f} cm2'\n",
    "\n",
    "user = Triangle()\n",
    "print(user.calculate())"
   ]
  },
  {
   "cell_type": "markdown",
   "metadata": {},
   "source": [
    "1.2 Write a function filter_long_words() that takes a list of words and an integer n and returns\n",
    "the list of words that are longer than n."
   ]
  },
  {
   "cell_type": "code",
   "execution_count": 13,
   "metadata": {},
   "outputs": [
    {
     "name": "stdout",
     "output_type": "stream",
     "text": [
      "solution 1:  ['entertainment', 'machine learning', 'data science', 'tensorflow']\n",
      "solution 2:  ['entertainment', 'machine learning', 'data science', 'tensorflow']\n"
     ]
    }
   ],
   "source": [
    "## solution 1\n",
    "def filter_long_words(words, n):\n",
    "    a = []\n",
    "    for word in words:\n",
    "        if(len(word) > 7):\n",
    "            a.append(word)\n",
    "    return a\n",
    "    \n",
    "words = ['entertainment','play','machine learning', 'data science', 'ineuron',\n",
    "    'odd', 'even', 'python', 'tensorflow', 'pytorch',]\n",
    "\n",
    "print(\"solution 1: \",filter_long_words(words, 7))\n",
    "\n",
    "## solution 2\n",
    "def check_len(x):\n",
    "    return len(x) > 7\n",
    "\n",
    "print(\"solution 2: \",list(filter(check_len, words)))"
   ]
  },
  {
   "cell_type": "markdown",
   "metadata": {},
   "source": [
    "2.1 Write a Python program using function concept that maps list of words into a list of integers\n",
    "representing the lengths of the corresponding words.\n",
    "\n",
    "Hint: If a list [ ab,cde,erty] is passed on to the python function output should come as [2,3,4]\n",
    "Here 2,3 and 4 are the lengths of the words in the list."
   ]
  },
  {
   "cell_type": "code",
   "execution_count": 10,
   "metadata": {},
   "outputs": [
    {
     "name": "stdout",
     "output_type": "stream",
     "text": [
      "solution 1:  [2, 3, 4]\n",
      "solution 2:  [2, 3, 4]\n"
     ]
    }
   ],
   "source": [
    "## solution 1\n",
    "def word_to_len(words):\n",
    "    a = []\n",
    "    for word in words:\n",
    "        a.append(len(word))\n",
    "    return a\n",
    "        \n",
    "words = ['ab','cde','erty']\n",
    "print(\"solution 1: \",word_to_len(words))\n",
    "\n",
    "## solution 2\n",
    "def give_length(x):\n",
    "    return len(x)\n",
    "\n",
    "print(\"solution 2: \",list(map(give_length,words)))"
   ]
  },
  {
   "cell_type": "markdown",
   "metadata": {},
   "source": [
    "2.2 Write a Python function which takes a character (i.e. a string of length 1) and returns True if\n",
    "it is a vowel, False otherwise."
   ]
  },
  {
   "cell_type": "code",
   "execution_count": 16,
   "metadata": {},
   "outputs": [
    {
     "name": "stdout",
     "output_type": "stream",
     "text": [
      "True\n",
      "False\n"
     ]
    }
   ],
   "source": [
    "def check_vowel(ch):\n",
    "    vowels = ['a','e','i','o','u']\n",
    "    if ch in vowels:\n",
    "        print(True)\n",
    "    else:\n",
    "        print(False)\n",
    "        \n",
    "check_vowel('a')\n",
    "check_vowel('b')"
   ]
  },
  {
   "cell_type": "code",
   "execution_count": null,
   "metadata": {},
   "outputs": [],
   "source": []
  }
 ],
 "metadata": {
  "kernelspec": {
   "display_name": "Python 3",
   "language": "python",
   "name": "python3"
  },
  "language_info": {
   "codemirror_mode": {
    "name": "ipython",
    "version": 3
   },
   "file_extension": ".py",
   "mimetype": "text/x-python",
   "name": "python",
   "nbconvert_exporter": "python",
   "pygments_lexer": "ipython3",
   "version": "3.6.5"
  }
 },
 "nbformat": 4,
 "nbformat_minor": 2
}
